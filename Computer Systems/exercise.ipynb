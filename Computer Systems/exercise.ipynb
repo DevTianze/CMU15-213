{
 "cells": [
  {
   "cell_type": "markdown",
   "metadata": {},
   "source": [
    "| n    | ${2^n}$ (decimal) | ${2^n}$ (hex) |\n",
    "| -------- | ------- | ----- |\n",
    "| 5  | 32     | 0x20 |\n",
    "| 23 |  0b1 << 23   | 0x800000 |\n",
    "| 15    | 32768    | 0x8000 |\n",
    "| 16  | 8192     | 0x2000 |\n",
    "| 12 |  13    | 0x1000 | \n",
    "| 6    | 64   | 0x40 |\n",
    "| 8    |  256   | 0x100 |"
   ]
  },
  {
   "cell_type": "markdown",
   "metadata": {},
   "source": [
    "| Decimal | Binary | Hexadecimal |\n",
    "|---|---|---|\n",
    "|0|00000000|0x00|\n",
    "|158|10011110|0x9E|\n",
    "|76|01001100|0x4C|\n",
    "|145|10010001|0x91|\n",
    "|174|1010 1110|0xAE|\n",
    "|60|00111100|0x3C|\n",
    "|241|11110001|0xF1|"
   ]
  },
  {
   "cell_type": "markdown",
   "metadata": {},
   "source": [
    "|Decimal|Binary|Hexadecimal|\n",
    "|-|-|-|\n",
    "|117|01110101|0x75|\n",
    "|189|10111101|0xBD|\n",
    "|170|11110101|0xF5|"
   ]
  },
  {
   "cell_type": "markdown",
   "metadata": {},
   "source": [
    "0x605c + 0x5 = 0x6061\n",
    "\n",
    "0x605c - 0x20 = 0x603c\n",
    "\n",
    "0x605c + 32 = 0x607c\n",
    "\n",
    "0x60fa - 0x605c = 0x9E"
   ]
  },
  {
   "cell_type": "code",
   "execution_count": 6,
   "metadata": {},
   "outputs": [
    {
     "data": {
      "text/plain": [
       "4.0"
      ]
     },
     "execution_count": 6,
     "metadata": {},
     "output_type": "execute_result"
    }
   ],
   "source": [
    "2 ** 32/1024/1024/1024"
   ]
  },
  {
   "cell_type": "code",
   "execution_count": null,
   "metadata": {},
   "outputs": [],
   "source": []
  }
 ],
 "metadata": {
  "kernelspec": {
   "display_name": "base",
   "language": "python",
   "name": "python3"
  },
  "language_info": {
   "codemirror_mode": {
    "name": "ipython",
    "version": 3
   },
   "file_extension": ".py",
   "mimetype": "text/x-python",
   "name": "python",
   "nbconvert_exporter": "python",
   "pygments_lexer": "ipython3",
   "version": "3.9.12"
  },
  "orig_nbformat": 4
 },
 "nbformat": 4,
 "nbformat_minor": 2
}
